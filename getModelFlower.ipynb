{
 "cells": [
  {
   "cell_type": "code",
   "execution_count": 1,
   "metadata": {},
   "outputs": [],
   "source": [
    "import requests"
   ]
  },
  {
   "cell_type": "code",
   "execution_count": 10,
   "metadata": {},
   "outputs": [],
   "source": [
    "url = \"https://e27faf2cc66a42fbad2dce18747962e5.apig.cn-north-4.huaweicloudapis.com/v1/infers/0daea6f3-e118-44aa-8389-bfac7a78fb94\"\n",
    "headers   = { \"X-Apig-AppCode\": \"b125f764043a4617a948a7f58ec140a181f288b710924de6bc7b6652f12759ea\" }\n",
    "dataFiles =  {\"images\": (\"rose1.jpg\", open(\"rose1.jpg\", \"rb\"), \"image/jpg\", {})}"
   ]
  },
  {
   "cell_type": "code",
   "execution_count": 11,
   "metadata": {},
   "outputs": [
    {
     "name": "stdout",
     "output_type": "stream",
     "text": [
      "{\"predicted_label\": \"roses\", \"scores\": [[\"roses\", \"1.000\"], [\"daisy\", \"0.000\"], [\"dandelion\", \"0.000\"], [\"sunflowers\", \"0.000\"], [\"tulips\", \"0.000\"]]}\n",
      "200\n"
     ]
    }
   ],
   "source": [
    "response = requests.post(url, headers=headers, files=dataFiles)\n",
    "print(response.text)\n",
    "print(response.status_code)\n"
   ]
  },
  {
   "cell_type": "code",
   "execution_count": 12,
   "metadata": {},
   "outputs": [],
   "source": [
    "jsonResult = response.json()\n",
    "result = jsonResult['predicted_label']"
   ]
  },
  {
   "cell_type": "code",
   "execution_count": 13,
   "metadata": {},
   "outputs": [
    {
     "name": "stdout",
     "output_type": "stream",
     "text": [
      "roses\n"
     ]
    }
   ],
   "source": [
    "print(result)"
   ]
  },
  {
   "cell_type": "code",
   "execution_count": 14,
   "metadata": {},
   "outputs": [],
   "source": [
    "arScores = jsonResult['scores']"
   ]
  },
  {
   "cell_type": "code",
   "execution_count": 15,
   "metadata": {},
   "outputs": [
    {
     "name": "stdout",
     "output_type": "stream",
     "text": [
      "[['roses', '1.000'], ['daisy', '0.000'], ['dandelion', '0.000'], ['sunflowers', '0.000'], ['tulips', '0.000']]\n"
     ]
    }
   ],
   "source": [
    "print(arScores)"
   ]
  },
  {
   "cell_type": "code",
   "execution_count": 16,
   "metadata": {},
   "outputs": [
    {
     "name": "stdout",
     "output_type": "stream",
     "text": [
      "Result: roses : predicted: 1.00\n"
     ]
    }
   ],
   "source": [
    "predicted_score = 0\n",
    "for score in arScores:\n",
    "    # print(score)\n",
    "    if score[0]==result:\n",
    "        predicted_score = float(score[1])\n",
    "print(\"Result: %s : predicted: %.2f\" % (result, predicted_score))"
   ]
  }
 ],
 "metadata": {
  "interpreter": {
   "hash": "40f27ddc7c06fe2aed209eb57f1114a9b01333bbd7c3bb1802fa84b84f7c773d"
  },
  "kernelspec": {
   "display_name": "Python 3.8.0 64-bit ('ai_course': conda)",
   "name": "python3"
  },
  "language_info": {
   "codemirror_mode": {
    "name": "ipython",
    "version": 3
   },
   "file_extension": ".py",
   "mimetype": "text/x-python",
   "name": "python",
   "nbconvert_exporter": "python",
   "pygments_lexer": "ipython3",
   "version": "3.8.0"
  },
  "orig_nbformat": 4
 },
 "nbformat": 4,
 "nbformat_minor": 2
}
